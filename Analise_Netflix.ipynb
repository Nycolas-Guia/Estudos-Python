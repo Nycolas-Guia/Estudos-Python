{
  "nbformat": 4,
  "nbformat_minor": 0,
  "metadata": {
    "colab": {
      "provenance": [],
      "authorship_tag": "ABX9TyPx6jXvpY8kOVBYuY8dFPkp"
    },
    "kernelspec": {
      "name": "python3",
      "display_name": "Python 3"
    },
    "language_info": {
      "name": "python"
    }
  },
  "cells": [
    {
      "cell_type": "code",
      "execution_count": null,
      "metadata": {
        "id": "3OdjH5AlB7yt"
      },
      "outputs": [],
      "source": [
        "import pandas as pd\n",
        "df = pd.read_csv('netflix_titles.csv')\n",
        "\n",
        "# Visualizar as primeiras linhas\n",
        "print(df.head())\n",
        "\n",
        "# Informações gerais\n",
        "print(df.info())\n",
        "print(df.shape)\n",
        "\n"
      ]
    },
    {
      "cell_type": "code",
      "source": [
        "# Contar valores ausentes por coluna\n",
        "print(df.isnull().sum())\n",
        "\n",
        "# Preencher valores ausentes em 'director' e 'cast' (método de atribuição explícita)\n",
        "df['director'] = df['director'].fillna('Unknown')\n",
        "df['cast'] = df['cast'].fillna('Unknown')\n",
        "\n",
        "# Remover linhas com 'country' ausente (método de atribuição explícita)\n",
        "df = df.dropna(subset=['country'])\n",
        "\n",
        "# Converter 'date_added' para datetime\n",
        "df['date_added'] = pd.to_datetime(df['date_added'], errors='coerce')\n",
        "\n",
        "# Verificar novamente\n",
        "print(df.isnull().sum())\n"
      ],
      "metadata": {
        "id": "yNX9vQCZDlQa",
        "colab": {
          "base_uri": "https://localhost:8080/"
        },
        "outputId": "e65fd4ce-6a19-4d46-a0ed-9cf59bae1867"
      },
      "execution_count": 7,
      "outputs": [
        {
          "output_type": "stream",
          "name": "stdout",
          "text": [
            "show_id            0\n",
            "type               0\n",
            "title              0\n",
            "director        2634\n",
            "cast             825\n",
            "country          831\n",
            "date_added        10\n",
            "release_year       0\n",
            "rating             4\n",
            "duration           3\n",
            "listed_in          0\n",
            "description        0\n",
            "dtype: int64\n",
            "show_id          0\n",
            "type             0\n",
            "title            0\n",
            "director         0\n",
            "cast             0\n",
            "country          0\n",
            "date_added      94\n",
            "release_year     0\n",
            "rating           3\n",
            "duration         3\n",
            "listed_in        0\n",
            "description      0\n",
            "dtype: int64\n",
            "  show_id     type                          title         director  \\\n",
            "0      s1    Movie           Dick Johnson Is Dead  Kirsten Johnson   \n",
            "1      s2  TV Show                  Blood & Water          Unknown   \n",
            "4      s5  TV Show                   Kota Factory          Unknown   \n",
            "7      s8    Movie                        Sankofa     Haile Gerima   \n",
            "8      s9  TV Show  The Great British Baking Show  Andy Devonshire   \n",
            "\n",
            "                                                cast  \\\n",
            "0                                            Unknown   \n",
            "1  Ama Qamata, Khosi Ngema, Gail Mabalane, Thaban...   \n",
            "4  Mayur More, Jitendra Kumar, Ranjan Raj, Alam K...   \n",
            "7  Kofi Ghanaba, Oyafunmike Ogunlano, Alexandra D...   \n",
            "8  Mel Giedroyc, Sue Perkins, Mary Berry, Paul Ho...   \n",
            "\n",
            "                                             country date_added  release_year  \\\n",
            "0                                      United States 2021-09-25          2020   \n",
            "1                                       South Africa 2021-09-24          2021   \n",
            "4                                              India 2021-09-24          2021   \n",
            "7  United States, Ghana, Burkina Faso, United Kin... 2021-09-24          1993   \n",
            "8                                     United Kingdom 2021-09-24          2021   \n",
            "\n",
            "  rating   duration                                          listed_in  \\\n",
            "0  PG-13     90 min                                      Documentaries   \n",
            "1  TV-MA  2 Seasons    International TV Shows, TV Dramas, TV Mysteries   \n",
            "4  TV-MA  2 Seasons  International TV Shows, Romantic TV Shows, TV ...   \n",
            "7  TV-MA    125 min   Dramas, Independent Movies, International Movies   \n",
            "8  TV-14  9 Seasons                       British TV Shows, Reality TV   \n",
            "\n",
            "                                         description  \n",
            "0  As her father nears the end of his life, filmm...  \n",
            "1  After crossing paths at a party, a Cape Town t...  \n",
            "4  In a city of coaching centers known to train I...  \n",
            "7  On a photo shoot in Ghana, an American model s...  \n",
            "8  A talented batch of amateur bakers face off in...  \n"
          ]
        }
      ]
    }
  ]
}